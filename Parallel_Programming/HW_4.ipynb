{
 "cells": [
  {
   "cell_type": "markdown",
   "id": "807eeb67-c734-4bd7-87aa-573d1d55366d",
   "metadata": {},
   "source": [
    "В формулировке заданий будет использоваться понятие **worker**. Это слово обозначает какую-то единицу параллельного выполнения, в случае питона это может быть **поток** или **процесс**, выбирайте то, что лучше будет подходить к конкретной задаче\n",
    "\n",
    "В каждом задании нужно писать подробные аннотиции типов для:\n",
    "1. Аргументов функций и классов\n",
    "2. Возвращаемых значений\n",
    "3. Классовых атрибутов (если такие есть)\n",
    "\n",
    "В каждом задании нужно писать докстроки в определённом стиле (какой вам больше нравится) для всех функций, классов и методов"
   ]
  },
  {
   "cell_type": "code",
   "execution_count": 1,
   "id": "c2985835",
   "metadata": {},
   "outputs": [],
   "source": [
    "from typing import Union, Callable, Any"
   ]
  },
  {
   "cell_type": "markdown",
   "id": "6d3b4f3a-f226-4ea4-a39f-dfb6e45bd983",
   "metadata": {},
   "source": [
    "# Задание 1 (7 баллов)"
   ]
  },
  {
   "cell_type": "markdown",
   "id": "ba5a5046-e619-4e55-8a36-f0e72f7f8d4a",
   "metadata": {},
   "source": [
    "В одном из заданий по ML от вас требовалось написать кастомную реализацию Random Forest. Её проблема состоит в том, что она работает медленно, так как использует всего один поток для работы. Добавление параллельного программирования в код позволит получить существенный прирост в скорости обучения и предсказаний.\n",
    "\n",
    "В данном задании от вас требуется добавить возможность обучать случайный лес параллельно и использовать параллелизм для предсказаний. Для этого вам понадобится:\n",
    "1. Добавить аргумент `n_jobs` в метод `fit`. `n_jobs` показывает количество worker'ов, используемых для распараллеливания\n",
    "2. Добавить аргумент `n_jobs` в методы `predict` и `predict_proba`\n",
    "3. Реализовать функционал по распараллеливанию в данных методах\n",
    "\n",
    "В результате код `random_forest.fit(X, y, n_jobs=2)` и `random_forest.predict(X, y, n_jobs=2)` должен работать в ~1.5-2 раза быстрее, чем `random_forest.fit(X, y, n_jobs=1)` и `random_forest.predict(X, y, n_jobs=1)` соответственно\n",
    "\n",
    "Если у вас по каким-то причинам нет кода случайного леса из ДЗ по ML, то вы можете написать его заново или попросить у однокурсника. *Детали* реализации ML части оцениваться не будут, НО, если вы поломаете логику работы алгоритма во время реализации параллелизма, то за это будут сниматься баллы\n",
    "\n",
    "В задании можно использовать только модули из **стандартной библиотеки** питона, а также функции и классы из **sklearn** при помощи которых вы изначально писали лес"
   ]
  },
  {
   "cell_type": "code",
   "execution_count": 3,
   "id": "af9d8b2d-3b0f-4789-a5f3-dfad537c916e",
   "metadata": {},
   "outputs": [],
   "source": [
    "from sklearn.base import BaseEstimator\n",
    "from sklearn.datasets import make_classification\n",
    "from sklearn.tree import DecisionTreeClassifier\n",
    "from concurrent.futures import ProcessPoolExecutor\n",
    "import multiprocessing\n",
    "import random\n",
    "import numpy as np"
   ]
  },
  {
   "cell_type": "code",
   "execution_count": 4,
   "id": "f3b8c34e",
   "metadata": {},
   "outputs": [],
   "source": [
    "SEED = 111"
   ]
  },
  {
   "cell_type": "code",
   "execution_count": 24,
   "id": "476ef819",
   "metadata": {},
   "outputs": [],
   "source": [
    "class RandomForestClassifierCustom(BaseEstimator):\n",
    "    \"\"\"\n",
    "    Custom random forest classifier is a composition of sklearn DecisionTreeClassifiers. \n",
    "\n",
    "    Attributes:\n",
    "        n_estimators: Number of DecisionTreeClassifiers to compose the Random Forest.\n",
    "        max_depth: Maximum depth of each DecisionTreeClassifier.\n",
    "        max_features: The number of features to consider when looking for the best split\n",
    "        random_state: Random state. The actual random state which is passed to each DecisionTreeClassifier \n",
    "        is counted from this attribute.\n",
    "        trees: List of fitted trees. The list is filled after fit method is called.\n",
    "        feat_ids_by_tree: Indices of columns for each tree. (In RandomForestClassifier each tree 'sees' \n",
    "        only a subset of columns).\n",
    "        classes_: Number of classes in train data.\n",
    "    \"\"\"\n",
    "    def __init__(\n",
    "        self, n_estimators:int = 10, max_depth:int = None, max_features:int = None, random_state:int = SEED\n",
    "    ) -> None:\n",
    "        \"\"\"\n",
    "        Initialization function.\n",
    "\n",
    "        Args:\n",
    "            n_estimators: Number of DecisionTreeClassifiers to compose the Random Forest.\n",
    "            max_depth: Maximum depth of each DecisionTreeClassifier.\n",
    "            max_features: The number of features to consider when looking for the best split\n",
    "            random_state: Random state. The actual random state which is passed to each DecisionTreeClassifier \n",
    "\n",
    "        Returns:\n",
    "            None.\n",
    "        \"\"\"\n",
    "        self.n_estimators = n_estimators\n",
    "        self.max_depth = max_depth\n",
    "        self.max_features = max_features\n",
    "        self.random_state = random_state\n",
    "\n",
    "        self.trees = []\n",
    "        self.feat_ids_by_tree = []\n",
    "\n",
    "    def fit_some_trees(self, arg_tuple: tuple[np.ndarray, np.ndarray, int]) -> tuple:\n",
    "        \"\"\"\n",
    "        Fits a subset of trees on subset of data passed to it.\n",
    "\n",
    "        Args:\n",
    "            arg_tuple: Tuple of (X, y, n_estimators_work). X and y are a subset of training data and \n",
    "            n_estimators_work is the number of trees to train.\n",
    "\n",
    "        Returns:\n",
    "            List of trained trees and list of column indices for each tree.\n",
    "        \"\"\"\n",
    "        X, y, n_estimators_work = arg_tuple\n",
    "        some_trees = []\n",
    "        feat_ids_by_tree = []\n",
    "        for i in range(n_estimators_work):\n",
    "            num_rows, num_columns = X.shape\n",
    "            random_state = SEED\n",
    "            random.seed(random_state)\n",
    "            np.random.seed(random_state)\n",
    "\n",
    "            tree = DecisionTreeClassifier(max_depth=self.max_depth, max_features=self.max_features, \n",
    "                                          random_state=random_state)\n",
    "            subset_col_idx = np.random.choice(num_columns, self.max_features, replace=False)\n",
    "            subset_row_idx = np.random.choice(num_rows, num_rows // 2, replace=True)\n",
    "            X_subset = X[subset_row_idx, :][:, subset_col_idx]\n",
    "            y_subset = y[subset_row_idx]\n",
    "\n",
    "            tree.fit(X_subset, y_subset)\n",
    "            \n",
    "            some_trees.append(tree)\n",
    "            feat_ids_by_tree.append(subset_col_idx)\n",
    "        return some_trees, feat_ids_by_tree\n",
    "                \n",
    "    def fit(self, X: np.ndarray, y: np.ndarray, n_jobs: int = 1) -> RandomForestClassifierCustom:\n",
    "        \"\"\"\n",
    "        Fits all trees creating n_jobs processes.\n",
    "\n",
    "        Args:\n",
    "            X: Features to predict on.\n",
    "            y: y true; the correct classes of objects.\n",
    "            n_jobs: Number of processes for parallel tree fitting.\n",
    "\n",
    "        Returns:\n",
    "            Self.\n",
    "        \"\"\"\n",
    "        self.classes_ = sorted(np.unique(y))\n",
    "        X = np.array(X)\n",
    "        n_estimators = [self.n_estimators // n_jobs] * n_jobs\n",
    "        n_estimators[-1] += self.n_estimators - sum(n_estimators)\n",
    "        \n",
    "        with ProcessPoolExecutor(n_jobs) as pool:                               \n",
    "            result = pool.map(self.fit_some_trees, [(X, y, n) \n",
    "                                                    for n in n_estimators])\n",
    "            for trees, feat_ids_by_tree in result:\n",
    "                self.trees.extend(trees)\n",
    "                self.feat_ids_by_tree.extend(feat_ids_by_tree)\n",
    "        \n",
    "        return self\n",
    "\n",
    "    def predict_proba_some_trees(self, arg_tuple: tuple[np.ndarray, int, int]) -> list:\n",
    "        \"\"\"\n",
    "        Predicts probability of each class with trees passed to the method.\n",
    "\n",
    "        Args:\n",
    "            arg_tuple: Tuple of (X, start, stop). X is subset of features to predict on; start and stop are \n",
    "            the indices of tree classifiers in self.trees.\n",
    "\n",
    "        Returns:\n",
    "            List of probability for each class predicted by each tree.\n",
    "        \"\"\"\n",
    "        X, start, stop = arg_tuple\n",
    "        proba = []\n",
    "        for i in range(start, stop):\n",
    "            tree = self.trees[i]\n",
    "            subset_col_idx = self.feat_ids_by_tree[i]\n",
    "            X_subset = X[:, subset_col_idx]\n",
    "            proba.append(tree.predict_proba(X_subset))\n",
    "        return proba\n",
    "    \n",
    "    \n",
    "    def predict_proba(self, X: np.ndarray, n_jobs: int = 1) -> list:\n",
    "        \"\"\"\n",
    "        Predicts probability of each class with all trees creating n_jobs processes.\n",
    "\n",
    "        Args:\n",
    "            X: Features to predict on.\n",
    "            n_jobs: Number of processes for parallel predicting.\n",
    "\n",
    "        Returns:\n",
    "            Self.\n",
    "        \"\"\"\n",
    "        indices = [self.n_estimators // n_jobs] * n_jobs\n",
    "        indices[-1] += self.n_estimators - sum(indices)\n",
    "        for i in range(1, len(indices)):\n",
    "            indices[i] += indices[i - 1]\n",
    "        indices = [0] + indices\n",
    "        \n",
    "        proba = []\n",
    "        \n",
    "        with ProcessPoolExecutor(n_jobs) as pool:                               \n",
    "            result = pool.map(self.predict_proba_some_trees, [(X, indices[i], indices[i + 1]) \n",
    "                                                             for i in range(n_jobs)])\n",
    "        for p in result:\n",
    "            proba.extend(p)\n",
    "\n",
    "        proba = np.array(proba)\n",
    "        proba = np.mean(proba, axis=0)\n",
    "        return proba\n",
    "    \n",
    "    def predict(self, X: np.ndarray, n_jobs: int = 1) -> np.ndarray:\n",
    "        \"\"\"\n",
    "        Predicts the correct class.\n",
    "\n",
    "        Args:\n",
    "            X: Features to predict on.\n",
    "            n_jobs: Number of processes for parallel predicting.\n",
    "\n",
    "        Returns:\n",
    "            Predictions of correct classes.\n",
    "        \"\"\"\n",
    "        probas = self.predict_proba(X, n_jobs)\n",
    "        predictions = np.argmax(probas, axis=1)\n",
    "        \n",
    "        return predictions"
   ]
  },
  {
   "cell_type": "code",
   "execution_count": 25,
   "id": "feeb3983",
   "metadata": {},
   "outputs": [],
   "source": [
    "X, y = make_classification(n_samples=100000)"
   ]
  },
  {
   "cell_type": "code",
   "execution_count": 26,
   "id": "5eecd633-1ae5-49fb-8cd0-4fd4ec1d6c24",
   "metadata": {},
   "outputs": [],
   "source": [
    "random_forest = RandomForestClassifierCustom(max_depth=30, n_estimators=100, max_features=2, random_state=42)"
   ]
  },
  {
   "cell_type": "code",
   "execution_count": 27,
   "id": "85861ddf-1fdd-4dce-8e91-67e2a20e294d",
   "metadata": {},
   "outputs": [
    {
     "name": "stdout",
     "output_type": "stream",
     "text": [
      "CPU times: user 30.1 ms, sys: 234 ms, total: 264 ms\n",
      "Wall time: 23.6 s\n"
     ]
    }
   ],
   "source": [
    "%%time\n",
    "\n",
    "_ = random_forest.fit(X, y, n_jobs=1)"
   ]
  },
  {
   "cell_type": "code",
   "execution_count": 28,
   "id": "04e62ac4-91d0-4cac-9de9-b4be0b582e7b",
   "metadata": {},
   "outputs": [
    {
     "name": "stdout",
     "output_type": "stream",
     "text": [
      "CPU times: user 180 ms, sys: 611 ms, total: 791 ms\n",
      "Wall time: 3.7 s\n"
     ]
    }
   ],
   "source": [
    "%%time\n",
    "\n",
    "preds_1 = random_forest.predict(X, n_jobs=1)"
   ]
  },
  {
   "cell_type": "code",
   "execution_count": 29,
   "id": "a4696384-b02b-4195-8ca7-60ae55aed197",
   "metadata": {},
   "outputs": [],
   "source": [
    "random_forest = RandomForestClassifierCustom(max_depth=30, n_estimators=100, max_features=2, random_state=42)"
   ]
  },
  {
   "cell_type": "code",
   "execution_count": 30,
   "id": "9f14517f-7a80-4219-aff6-90097b59b085",
   "metadata": {},
   "outputs": [
    {
     "name": "stdout",
     "output_type": "stream",
     "text": [
      "CPU times: user 81.7 ms, sys: 232 ms, total: 314 ms\n",
      "Wall time: 13.8 s\n"
     ]
    }
   ],
   "source": [
    "%%time\n",
    "\n",
    "_ = random_forest.fit(X, y, n_jobs=2)"
   ]
  },
  {
   "cell_type": "code",
   "execution_count": 31,
   "id": "c7f01f97-4ad4-4bed-a977-c8bd3ae962fd",
   "metadata": {},
   "outputs": [
    {
     "name": "stdout",
     "output_type": "stream",
     "text": [
      "CPU times: user 250 ms, sys: 747 ms, total: 997 ms\n",
      "Wall time: 2.72 s\n"
     ]
    }
   ],
   "source": [
    "%%time\n",
    "\n",
    "preds_2 = random_forest.predict(X, n_jobs=2)"
   ]
  },
  {
   "cell_type": "code",
   "execution_count": 32,
   "id": "547ba1fd-9535-4267-93f8-3cc927f71e03",
   "metadata": {},
   "outputs": [
    {
     "data": {
      "text/plain": [
       "True"
      ]
     },
     "execution_count": 32,
     "metadata": {},
     "output_type": "execute_result"
    }
   ],
   "source": [
    "(preds_1 == preds_2).all()   # Количество worker'ов не должно влиять на предсказания"
   ]
  },
  {
   "cell_type": "markdown",
   "id": "0a2ea6af-f73d-436a-94d9-f7310ac9a4e6",
   "metadata": {},
   "source": [
    "#### Какие есть недостатки у вашей реализации параллельного Random Forest (если они есть)? Как это можно исправить? Опишите словами, можно без кода (+1 дополнительный балл)"
   ]
  },
  {
   "cell_type": "markdown",
   "id": "19f2f04d-2c35-4d7d-a8fe-7f88d538fb79",
   "metadata": {},
   "source": [
    "1. У меня не получилось нормально передавать random seed, поскольку в каждом процессе свой цикл.\n",
    "2. Не произошло действительно кратного ускорения. Процессы выполняют одинаковую работу, поэтому, видимо, не удается их удачно распараллелить"
   ]
  },
  {
   "cell_type": "markdown",
   "id": "f020bb22-a29e-4e39-aba9-d41e79a80732",
   "metadata": {},
   "source": [
    "# Задание 2 (9 баллов)"
   ]
  },
  {
   "cell_type": "markdown",
   "id": "e3a8a0d2-f35b-4edb-9fb3-61da119255e9",
   "metadata": {},
   "source": [
    "Напишите декоратор `memory_limit`, который позволит ограничивать использование памяти декорируемой функцией.\n",
    "\n",
    "Декоратор должен принимать следующие аргументы:\n",
    "1. `soft_limit` - \"мягкий\" лимит использования памяти. При превышении функцией этого лимита должен будет отображён **warning**\n",
    "2. `hard_limit` - \"жёсткий\" лимит использования памяти. При превышении функцией этого лимита должно будет брошено исключение, а функция должна немедленно завершить свою работу\n",
    "3. `poll_interval` - интервал времени (в секундах) между проверками использования памяти\n",
    "\n",
    "Требования:\n",
    "1. Потребление функцией памяти должно отслеживаться **во время выполнения функции**, а не после её завершения\n",
    "2. **warning** при превышении `soft_limit` должен отображаться один раз, даже если функция переходила через этот лимит несколько раз\n",
    "3. Если задать `soft_limit` или `hard_limit` как `None`, то соответствующий лимит должен быть отключён\n",
    "4. Лимиты должны передаваться и отображаться в формате `<number>X`, где `X` - символ, обозначающий порядок единицы измерения памяти (\"B\", \"K\", \"M\", \"G\", \"T\", ...)\n",
    "5. В тексте warning'ов и исключений должен быть указан текщий объём используемой памяти и величина превышенного лимита\n",
    "\n",
    "В задании можно использовать только модули из **стандартной библиотеки** питона, можно писать вспомогательные функции и/или классы\n",
    "\n",
    "В коде ниже для вас предопределены некоторые полезные функции, вы можете ими пользоваться, а можете не пользоваться"
   ]
  },
  {
   "cell_type": "code",
   "execution_count": 33,
   "id": "78299479-f7e3-409c-b144-d9a14bb1715a",
   "metadata": {},
   "outputs": [],
   "source": [
    "import os\n",
    "import psutil\n",
    "import time\n",
    "import warnings\n",
    "import threading\n",
    "\n",
    "\n",
    "def get_memory_usage() -> int:    # Показывает текущее потребление памяти процессом\n",
    "    \"\"\"\n",
    "    Shows memory occupied by a process.\n",
    "\n",
    "    Args:\n",
    "        None.\n",
    "\n",
    "    Returns:\n",
    "        Memory occupied by a process.\n",
    "    \"\"\"\n",
    "    process = psutil.Process(os.getpid())\n",
    "    mem_info = process.memory_info()\n",
    "    return mem_info.rss\n",
    "\n",
    "\n",
    "def bytes_to_human_readable(n_bytes: int) -> str:\n",
    "    \"\"\"\n",
    "    Converts number of bytes to human-readable representation (such as 2K, 5M, etc).\n",
    "\n",
    "    Args:\n",
    "        n_bytes: Number of bytes to convert to human-readable representation.\n",
    "\n",
    "    Returns:\n",
    "        Human-readable representation of bytes number.\n",
    "    \"\"\"\n",
    "    symbols = ('K', 'M', 'G', 'T', 'P', 'E', 'Z', 'Y')\n",
    "    prefix = {}\n",
    "    for idx, s in enumerate(symbols):\n",
    "        prefix[s] = 1 << (idx + 1) * 10\n",
    "    for s in reversed(symbols):\n",
    "        if n_bytes >= prefix[s]:\n",
    "            value = float(n_bytes) / prefix[s]\n",
    "            return f\"{value:.2f}{s}\"\n",
    "    return f\"{n_bytes}B\"\n",
    "\n",
    "def human_readable_to_bytes(number: str) -> float:\n",
    "    \"\"\"\n",
    "    Converts human-readable representation (such as 2K, 5M, etc) to number of bytes.\n",
    "\n",
    "    Args:\n",
    "        number: Human-readable representation of bytes number (such as 2K, 5M, etc).\n",
    "\n",
    "    Returns:\n",
    "        Number of bytes.\n",
    "    \"\"\"\n",
    "    prefix = {'B': 0,'K': 1, 'M': 2, 'G': 3, 'T': 4, 'P': 5, 'E': 6, 'Z': 7, 'Y': 8}\n",
    "    return float(number[:len(number) -1]) * (1024 ** prefix[number[-1]])"
   ]
  },
  {
   "cell_type": "code",
   "execution_count": 36,
   "id": "43a6e7db",
   "metadata": {},
   "outputs": [],
   "source": [
    "class ThreadWithReturnValue(threading.Thread):\n",
    "    \"\"\"\n",
    "    Custom class for creating threads which saves the result of function in thread to 'value' attribute. \n",
    "\n",
    "    Attributes:\n",
    "        target: Function to execute in a thread.\n",
    "        args: Args to pass to executable function ('target').\n",
    "        kwargs: Kwargs to pass to executable function ('target').\n",
    "        value: Value that is returned by 'target'.\n",
    "    \"\"\"\n",
    "    def __init__(self, target: Callable, args: Any, kwargs: Any) -> None:\n",
    "        \"\"\"\n",
    "        Initialization function.\n",
    "\n",
    "        Args:\n",
    "            target: Function to execute in a thread.\n",
    "            args: Args to pass to executable function ('target').\n",
    "            kwargs: Kwargs to pass to executable function ('target').\n",
    "\n",
    "        Returns:\n",
    "            None.\n",
    "        \"\"\"\n",
    "        super().__init__()\n",
    "        self.target = target\n",
    "        self.args = args\n",
    "        self.kwargs = kwargs\n",
    "        self.value = None\n",
    "    def run(self) -> None:\n",
    "        \"\"\"\n",
    "        Runs the 'target' function in the thread and writed the result, returned by the 'target' function \n",
    "        to 'value' attribute.\n",
    "\n",
    "        Args:\n",
    "            None.\n",
    "\n",
    "        Returns:\n",
    "            None.\n",
    "        \"\"\"\n",
    "        self.value = self.target(*self.args, **self.kwargs)"
   ]
  },
  {
   "cell_type": "code",
   "execution_count": 37,
   "id": "90396d11",
   "metadata": {},
   "outputs": [],
   "source": [
    "def memory_limit(soft_limit:str = None, hard_limit:str = None, poll_interval: Union[int, float] = 1) -> Callable:\n",
    "    \"\"\"\n",
    "    Returns decorator function which throws warning after exceeding the soft limit and stops execution \n",
    "    after exceeding the hard limit.\n",
    "\n",
    "    Args:\n",
    "        soft_limit: Memory limit after which a warning is shown.\n",
    "        hard_limit: Memory limit after which execution is stopped.\n",
    "        poll_interval: Time interval to recheck memory occupation.\n",
    "\n",
    "    Returns:\n",
    "        Decorator function.\n",
    "    \"\"\"\n",
    "    def decorator(func):\n",
    "        def inner_func(*args, **kwargs):\n",
    "            nonlocal soft_limit, hard_limit\n",
    "            if soft_limit:\n",
    "                soft_limit_b = human_readable_to_bytes(soft_limit)\n",
    "            if hard_limit:\n",
    "                hard_limit_b = human_readable_to_bytes(hard_limit)\n",
    "            memory_baseline = get_memory_usage()\n",
    "            no_warning_previous = True\n",
    "            thread = ThreadWithReturnValue(target=func, args=args, kwargs=kwargs)\n",
    "            thread.start()\n",
    "            while True:\n",
    "                memory = get_memory_usage() - memory_baseline\n",
    "                if hard_limit and (memory > hard_limit_b):\n",
    "                    memory_human_r = bytes_to_human_readable(memory)\n",
    "                    raise MemoryError(f\"Occupied memory is {memory_human_r} while hard limit is {hard_limit}\")\n",
    "                elif soft_limit and no_warning_previous and (memory > soft_limit_b):\n",
    "                    no_warning_previous = False\n",
    "                    memory_human_r = bytes_to_human_readable(memory)\n",
    "                    warnings.warn(f\"Occupied memory is {memory_human_r} while soft limit is {soft_limit}\")                                   \n",
    "                time.sleep(poll_interval)\n",
    "                \n",
    "                if not thread.is_alive():\n",
    "                    break\n",
    "\n",
    "            return thread.value\n",
    "\n",
    "        return inner_func\n",
    "    return decorator"
   ]
  },
  {
   "cell_type": "code",
   "execution_count": 38,
   "id": "e5466565-e46c-425e-a7bc-556a13633a0d",
   "metadata": {},
   "outputs": [],
   "source": [
    "@memory_limit(soft_limit=\"500M\", hard_limit=\"1000M\", poll_interval=1)\n",
    "def memory_increment() -> list:\n",
    "    \"\"\"\n",
    "    Test function. Reaches 1.89G memory occupation within several seconds.\n",
    "\n",
    "    Args:\n",
    "        None\n",
    "\n",
    "    Returns:\n",
    "        List of numbers.\n",
    "    \"\"\"\n",
    "    lst = []\n",
    "    for i in range(50000000):\n",
    "        if i % 500000 == 0:\n",
    "            time.sleep(0.1)\n",
    "        lst.append(i)\n",
    "    return lst"
   ]
  },
  {
   "cell_type": "code",
   "execution_count": 39,
   "id": "e1d19ff3",
   "metadata": {},
   "outputs": [
    {
     "name": "stderr",
     "output_type": "stream",
     "text": [
      "/tmp/ipykernel_7305/1868109649.py:33: UserWarning: Occupied memory is 553.59M while soft limit is 500M\n",
      "  warnings.warn(f\"Occupied memory is {memory_human_r} while soft limit is {soft_limit}\")\n"
     ]
    },
    {
     "ename": "MemoryError",
     "evalue": "Occupied memory is 1.07G while hard limit is 1000M",
     "output_type": "error",
     "traceback": [
      "\u001b[0;31m---------------------------------------------------------------------------\u001b[0m",
      "\u001b[0;31mMemoryError\u001b[0m                               Traceback (most recent call last)",
      "Cell \u001b[0;32mIn[39], line 1\u001b[0m\n\u001b[0;32m----> 1\u001b[0m \u001b[43mmemory_increment\u001b[49m\u001b[43m(\u001b[49m\u001b[43m)\u001b[49m\n",
      "Cell \u001b[0;32mIn[37], line 29\u001b[0m, in \u001b[0;36mmemory_limit.<locals>.decorator.<locals>.inner_func\u001b[0;34m(*args, **kwargs)\u001b[0m\n\u001b[1;32m     27\u001b[0m \u001b[38;5;28;01mif\u001b[39;00m hard_limit \u001b[38;5;129;01mand\u001b[39;00m (memory \u001b[38;5;241m>\u001b[39m hard_limit_b):\n\u001b[1;32m     28\u001b[0m     memory_human_r \u001b[38;5;241m=\u001b[39m bytes_to_human_readable(memory)\n\u001b[0;32m---> 29\u001b[0m     \u001b[38;5;28;01mraise\u001b[39;00m \u001b[38;5;167;01mMemoryError\u001b[39;00m(\u001b[38;5;124mf\u001b[39m\u001b[38;5;124m\"\u001b[39m\u001b[38;5;124mOccupied memory is \u001b[39m\u001b[38;5;132;01m{\u001b[39;00mmemory_human_r\u001b[38;5;132;01m}\u001b[39;00m\u001b[38;5;124m while hard limit is \u001b[39m\u001b[38;5;132;01m{\u001b[39;00mhard_limit\u001b[38;5;132;01m}\u001b[39;00m\u001b[38;5;124m\"\u001b[39m)\n\u001b[1;32m     30\u001b[0m \u001b[38;5;28;01melif\u001b[39;00m soft_limit \u001b[38;5;129;01mand\u001b[39;00m no_warning_previous \u001b[38;5;129;01mand\u001b[39;00m (memory \u001b[38;5;241m>\u001b[39m soft_limit_b):\n\u001b[1;32m     31\u001b[0m     no_warning_previous \u001b[38;5;241m=\u001b[39m \u001b[38;5;28;01mFalse\u001b[39;00m\n",
      "\u001b[0;31mMemoryError\u001b[0m: Occupied memory is 1.07G while hard limit is 1000M"
     ]
    }
   ],
   "source": [
    "memory_increment()"
   ]
  },
  {
   "cell_type": "markdown",
   "id": "4bf0a185-3fd7-4d48-bfeb-cf6ce8b12893",
   "metadata": {},
   "source": [
    "# Задание 3 (11 баллов)"
   ]
  },
  {
   "cell_type": "markdown",
   "id": "77eec6f5-3d52-43fc-b241-9114eb9c813c",
   "metadata": {},
   "source": [
    "Напишите функцию `parallel_map`. Это должна быть **универсальная** функция для распараллеливания, которая эффективно работает в любых условиях.\n",
    "\n",
    "Функция должна принимать следующие аргументы:\n",
    "1. `target_func` - целевая функция (обязательный аргумент)\n",
    "2. `args_container` - контейнер с позиционными аргументами для `target_func` (по-умолчанию `None` - позиционные аргументы не передаются)\n",
    "3. `kwargs_container` - контейнер с именованными аргументами для `target_func` (по-умолчанию `None` - именованные аргументы не передаются)\n",
    "4. `n_jobs` - количество workers, которые будут использованы для выполнения (по-умолчанию `None` - количество логических ядер CPU в системе)\n",
    "\n",
    "Функция должна работать аналогично `***PoolExecutor.map`, применяя функцию к переданному набору аргументов, но с некоторыми дополнениями и улучшениями\n",
    "    \n",
    "Поскольку мы пишем **универсальную** функцию, то нам нужно будет выполнить ряд требований, чтобы она могла логично и эффективно работать в большинстве ситуаций\n",
    "\n",
    "1. `target_func` может принимать аргументы любого вида в любом количестве\n",
    "2. Любые типы данных в `args_container`, кроме `tuple`, передаются в `target_func` как единственный позиционный аргумент. `tuple` распаковываются в несколько аргументов\n",
    "3. Количество элементов в `args_container` должно совпадать с количеством элементов в `kwargs_container` и наоборот, также значение одного из них или обоих может быть равно `None`, в иных случаях должна кидаться ошибка (оба аргумента переданы, но размеры не совпадают)\n",
    "\n",
    "4. Функция должна выполнять определённое количество параллельных вызовов `target_func`, это количество зависит от числа переданных аргументов и значения `n_jobs`. Сценарии могут быть следующие\n",
    "    + `args_container=None`, `kwargs_container=None`, `n_jobs=None`. В таком случае функция `target_func` выполнится параллельно столько раз, сколько на вашем устройстве логических ядер CPU\n",
    "    + `args_container=None`, `kwargs_container=None`, `n_jobs=5`. В таком случае функция `target_func` выполнится параллельно **5** раз\n",
    "    + `args_container=[1, 2, 3]`, `kwargs_container=None`, `n_jobs=5`. В таком случае функция `target_func` выполнится параллельно **3** раза, несмотря на то, что `n_jobs=5` (так как есть всего 3 набора аргументов для которых нам нужно получить результат, а лишние worker'ы создавать не имеет смысла)\n",
    "    + `args_container=None`, `kwargs_container=[{\"s\": 1}, {\"s\": 2}, {\"s\": 3}]`, `n_jobs=5`. Данный случай аналогичен предыдущему, но здесь мы используем именованные аргументы\n",
    "    + `args_container=[1, 2, 3]`, `kwargs_container=[{\"s\": 1}, {\"s\": 2}, {\"s\": 3}]`, `n_jobs=5`. Данный случай аналогичен предыдущему, но здесь мы используем и позиционные, и именованные аргументы\n",
    "    + `args_container=[1, 2, 3, 4]`, `kwargs_container=None`, `n_jobs=2`. В таком случае в каждый момент времени параллельно будет выполняться **не более 2** функций `target_func`, так как нам нужно выполнить её 4 раза, но у нас есть только 2 worker'а.\n",
    "    + В подобных случаях (из примера выше) должно оптимизироваться время выполнения. Если эти 4 вызова выполняются за 5, 1, 2 и 1 секунды, то параллельное выполнение с `n_jobs=2` должно занять **5 секунд** (не 7 и тем более не 10)\n",
    "\n",
    "5. `parallel_map` возвращает результаты выполнения `target_func` **в том же порядке**, в котором были переданы соответствующие аргументы\n",
    "6. Работает с функциями, созданными внутри других функций\n",
    "\n",
    "Для базового решения от вас не ожидается **сверххорошая** оптимизация по времени и памяти для всех возможных случаев. Однако за хорошо оптимизированную логику работы можно получить до **+3 дополнительных баллов**\n",
    "\n",
    "Вы можете сделать класс вместо функции, если вам удобнее\n",
    "\n",
    "В задании можно использовать только модули из **стандартной библиотеки** питона\n",
    "\n",
    "Ниже приведены тестовые примеры по каждому из требований"
   ]
  },
  {
   "cell_type": "code",
   "execution_count": 22,
   "id": "a917005b-bc1e-4229-9eef-d33bfe7050c2",
   "metadata": {},
   "outputs": [],
   "source": [
    "def parallel_map(target_func,\n",
    "                 args_container=None,\n",
    "                 kwargs_container=None,\n",
    "                 n_jobs=None):\n",
    "    # Ваш код здесь"
   ]
  },
  {
   "cell_type": "code",
   "execution_count": 156,
   "id": "0f41b1c8-0d26-483e-8114-1e7638006e34",
   "metadata": {},
   "outputs": [],
   "source": [
    "import time\n",
    "\n",
    "\n",
    "# Это только один пример тестовой функции, ваша parallel_map должна уметь эффективно работать с ЛЮБЫМИ функциями\n",
    "# Поэтому обязательно протестируйте код на чём-нибудбь ещё\n",
    "def test_func(x=1, s=2, a=1, b=1, c=1):\n",
    "    time.sleep(s)\n",
    "    return a*x**2 + b*x + c"
   ]
  },
  {
   "cell_type": "code",
   "execution_count": 157,
   "id": "54d48c99-6e8a-4990-8944-e5da424efdbd",
   "metadata": {},
   "outputs": [
    {
     "name": "stdout",
     "output_type": "stream",
     "text": [
      "CPU times: user 395 µs, sys: 8.26 ms, total: 8.65 ms\n",
      "Wall time: 2.01 s\n"
     ]
    },
    {
     "data": {
      "text/plain": [
       "[3, 7.0, (-8-3j), 21]"
      ]
     },
     "execution_count": 157,
     "metadata": {},
     "output_type": "execute_result"
    }
   ],
   "source": [
    "%%time\n",
    "\n",
    "# Пример 2.1\n",
    "# Отдельные значения в args_container передаются в качестве позиционных аргументов\n",
    "parallel_map(test_func, args_container=[1, 2.0, 3j-1, 4])   # Здесь происходят параллельные вызовы: test_func(1) test_func(2.0) test_func(3j-1) test_func(4)"
   ]
  },
  {
   "cell_type": "code",
   "execution_count": 158,
   "id": "dd0da716-5bbf-4925-b87a-7efe82c51cf9",
   "metadata": {},
   "outputs": [
    {
     "name": "stdout",
     "output_type": "stream",
     "text": [
      "CPU times: user 7.18 ms, sys: 7.73 ms, total: 14.9 ms\n",
      "Wall time: 3.01 s\n"
     ]
    },
    {
     "data": {
      "text/plain": [
       "[3, 7.0, (-8-3j), 21]"
      ]
     },
     "execution_count": 158,
     "metadata": {},
     "output_type": "execute_result"
    }
   ],
   "source": [
    "%%time\n",
    "\n",
    "# Пример 2.2\n",
    "# Элементы типа tuple в args_container распаковываются в качестве позиционных аргументов\n",
    "parallel_map(test_func, [(1, 1), (2.0, 2), (3j-1, 3), 4])    # Здесь происходят параллельные вызовы: test_func(1, 1) test_func(2.0, 2) test_func(3j-1, 3) test_func(4)"
   ]
  },
  {
   "cell_type": "code",
   "execution_count": 159,
   "id": "e2a0e6fd-1d92-4f06-9e4b-51290501c2da",
   "metadata": {},
   "outputs": [
    {
     "name": "stdout",
     "output_type": "stream",
     "text": [
      "CPU times: user 5.89 ms, sys: 8.84 ms, total: 14.7 ms\n",
      "Wall time: 3.02 s\n"
     ]
    },
    {
     "data": {
      "text/plain": [
       "[3, 7, 13, 21]"
      ]
     },
     "execution_count": 159,
     "metadata": {},
     "output_type": "execute_result"
    }
   ],
   "source": [
    "%%time\n",
    "\n",
    "# Пример 3.1\n",
    "# Возможна одновременная передача args_container и kwargs_container, но количества элементов в них должны быть равны\n",
    "parallel_map(test_func,\n",
    "             args_container=[1, 2, 3, 4],\n",
    "             kwargs_container=[{\"s\": 3}, {\"s\": 3}, {\"s\": 3}, {\"s\": 3}])\n",
    "\n",
    "# Здесь происходят параллельные вызовы: test_func(1, s=3) test_func(2, s=3) test_func(3, s=3) test_func(4, s=3)"
   ]
  },
  {
   "cell_type": "code",
   "execution_count": 42,
   "id": "34cda7e6-b24a-4564-958f-c4cf20b7ed7c",
   "metadata": {},
   "outputs": [
    {
     "name": "stdout",
     "output_type": "stream",
     "text": [
      "CPU times: user 6.54 ms, sys: 6.06 ms, total: 12.6 ms\n",
      "Wall time: 3.02 s\n"
     ]
    },
    {
     "data": {
      "text/plain": [
       "[3, 3, 3, 3]"
      ]
     },
     "execution_count": 42,
     "metadata": {},
     "output_type": "execute_result"
    }
   ],
   "source": [
    "%%time\n",
    "\n",
    "# Пример 3.2\n",
    "# args_container может быть None, а kwargs_container задан явно\n",
    "parallel_map(test_func,\n",
    "             kwargs_container=[{\"s\": 3}, {\"s\": 3}, {\"s\": 3}, {\"s\": 3}])"
   ]
  },
  {
   "cell_type": "code",
   "execution_count": 43,
   "id": "e75853e1-1ed8-43c5-b045-e30dd34a9f34",
   "metadata": {},
   "outputs": [
    {
     "name": "stdout",
     "output_type": "stream",
     "text": [
      "CPU times: user 4.11 ms, sys: 9.2 ms, total: 13.3 ms\n",
      "Wall time: 2.01 s\n"
     ]
    },
    {
     "data": {
      "text/plain": [
       "[3, 7, 13, 21]"
      ]
     },
     "execution_count": 43,
     "metadata": {},
     "output_type": "execute_result"
    }
   ],
   "source": [
    "%%time\n",
    "\n",
    "# Пример 3.3\n",
    "# kwargs_container может быть None, а args_container задан явно\n",
    "parallel_map(test_func,\n",
    "             args_container=[1, 2, 3, 4])"
   ]
  },
  {
   "cell_type": "code",
   "execution_count": 44,
   "id": "55bd628f-0456-4b3f-8cea-ccbfc0e0dd72",
   "metadata": {},
   "outputs": [
    {
     "name": "stdout",
     "output_type": "stream",
     "text": [
      "CPU times: user 500 µs, sys: 43.3 ms, total: 43.8 ms\n",
      "Wall time: 2.04 s\n"
     ]
    },
    {
     "data": {
      "text/plain": [
       "[3, 3, 3, 3, 3, 3, 3, 3, 3, 3, 3, 3, 3, 3, 3, 3, 3, 3, 3, 3, 3, 3, 3, 3]"
      ]
     },
     "execution_count": 44,
     "metadata": {},
     "output_type": "execute_result"
    }
   ],
   "source": [
    "%%time\n",
    "\n",
    "# Пример 3.4\n",
    "# И kwargs_container, и args_container могут быть не заданы\n",
    "parallel_map(test_func)"
   ]
  },
  {
   "cell_type": "code",
   "execution_count": 44,
   "id": "2aa43efd-6628-46e3-970a-018be26fef3f",
   "metadata": {},
   "outputs": [
    {
     "name": "stdout",
     "output_type": "stream",
     "text": [
      "CPU times: user 500 µs, sys: 43.3 ms, total: 43.8 ms\n",
      "Wall time: 2.04 s\n"
     ]
    },
    {
     "data": {
      "text/plain": [
       "[3, 3, 3, 3, 3, 3, 3, 3, 3, 3, 3, 3, 3, 3, 3, 3, 3, 3, 3, 3, 3, 3, 3, 3]"
      ]
     },
     "execution_count": 44,
     "metadata": {},
     "output_type": "execute_result"
    }
   ],
   "source": [
    "%%time\n",
    "\n",
    "# Пример 3.4\n",
    "# И kwargs_container, и args_container могут быть не заданы\n",
    "parallel_map(test_func)"
   ]
  },
  {
   "cell_type": "code",
   "execution_count": 32,
   "id": "bcdf8016-8363-4876-b05d-d1b536261f01",
   "metadata": {},
   "outputs": [
    {
     "ename": "ValueError",
     "evalue": "Numbers of positional arguments and keyword arguments do not match: 4 and 3",
     "output_type": "error",
     "traceback": [
      "\u001b[0;31m---------------------------------------------------------------------------\u001b[0m",
      "\u001b[0;31mValueError\u001b[0m                                Traceback (most recent call last)",
      "File \u001b[0;32m<timed exec>:8\u001b[0m, in \u001b[0;36m<module>\u001b[0;34m\u001b[0m\n",
      "\u001b[0;31mValueError\u001b[0m: Numbers of positional arguments and keyword arguments do not match: 4 and 3"
     ]
    }
   ],
   "source": [
    "%%time\n",
    "\n",
    "# Пример 3.5\n",
    "# При несовпадении количеств позиционных и именованных аргументов кидается ошибка\n",
    "parallel_map(test_func,\n",
    "             args_container=[1, 2, 3, 4],\n",
    "             kwargs_container=[{\"s\": 3}, {\"s\": 3}, {\"s\": 3}])"
   ]
  },
  {
   "cell_type": "code",
   "execution_count": 45,
   "id": "115e5fea-0692-424e-acb5-e2d97391bad5",
   "metadata": {},
   "outputs": [
    {
     "name": "stdout",
     "output_type": "stream",
     "text": [
      "CPU times: user 9.3 ms, sys: 51.2 ms, total: 60.5 ms\n",
      "Wall time: 2.06 s\n"
     ]
    },
    {
     "data": {
      "text/plain": [
       "[3, 3, 3, 3, 3, 3, 3, 3, 3, 3, 3, 3, 3, 3, 3, 3, 3, 3, 3, 3, 3, 3, 3, 3]"
      ]
     },
     "execution_count": 45,
     "metadata": {},
     "output_type": "execute_result"
    }
   ],
   "source": [
    "%%time\n",
    "\n",
    "# Пример 4.1\n",
    "# Если функция не имеет обязательных аргументов и аргумент n_jobs не был передан, то она выполняется параллельно столько раз, сколько ваш CPU имеет логических ядер\n",
    "# В моём случае это 24, у вас может быть больше или меньше\n",
    "parallel_map(test_func)"
   ]
  },
  {
   "cell_type": "code",
   "execution_count": 47,
   "id": "212fcdbe-a9f3-4eba-8d3f-7da0b853bffd",
   "metadata": {},
   "outputs": [
    {
     "name": "stdout",
     "output_type": "stream",
     "text": [
      "CPU times: user 2.06 ms, sys: 5.92 ms, total: 7.99 ms\n",
      "Wall time: 2.01 s\n"
     ]
    },
    {
     "data": {
      "text/plain": [
       "[3, 3]"
      ]
     },
     "execution_count": 47,
     "metadata": {},
     "output_type": "execute_result"
    }
   ],
   "source": [
    "%%time\n",
    "\n",
    "# Пример 4.2\n",
    "# Если функция не имеет обязательных аргументов и передан только аргумент n_jobs, то она выполняется параллельно n_jobs раз\n",
    "parallel_map(test_func, n_jobs=2)"
   ]
  },
  {
   "cell_type": "code",
   "execution_count": 48,
   "id": "202675af-11b9-485c-baa4-cc1ef8eb919d",
   "metadata": {},
   "outputs": [
    {
     "name": "stdout",
     "output_type": "stream",
     "text": [
      "CPU times: user 314 µs, sys: 8.69 ms, total: 9 ms\n",
      "Wall time: 2.01 s\n"
     ]
    },
    {
     "data": {
      "text/plain": [
       "[3, 7, 13]"
      ]
     },
     "execution_count": 48,
     "metadata": {},
     "output_type": "execute_result"
    }
   ],
   "source": [
    "%%time\n",
    "\n",
    "# Пример 4.3\n",
    "# Если аргументов для target_func указано МЕНЬШЕ, чем n_jobs, то используется такое же количество worker'ов, сколько было передано аргументов\n",
    "parallel_map(test_func,\n",
    "             args_container=[1, 2, 3],\n",
    "             n_jobs=5)   # Здесь используется 3 worker'a"
   ]
  },
  {
   "cell_type": "code",
   "execution_count": 49,
   "id": "a0952cde-c347-438a-ad0b-15e1218e5b6f",
   "metadata": {},
   "outputs": [
    {
     "name": "stdout",
     "output_type": "stream",
     "text": [
      "CPU times: user 1.26 ms, sys: 9.47 ms, total: 10.7 ms\n",
      "Wall time: 3.01 s\n"
     ]
    },
    {
     "data": {
      "text/plain": [
       "[3, 3, 3]"
      ]
     },
     "execution_count": 49,
     "metadata": {},
     "output_type": "execute_result"
    }
   ],
   "source": [
    "%%time\n",
    "\n",
    "# Пример 4.4\n",
    "# Аналогичный предыдущему случай, но с именованными аргументами\n",
    "parallel_map(test_func,\n",
    "             kwargs_container=[{\"s\": 3}, {\"s\": 3}, {\"s\": 3}],\n",
    "             n_jobs=5)   # Здесь используется 3 worker'a"
   ]
  },
  {
   "cell_type": "code",
   "execution_count": 50,
   "id": "b2c7d286-6036-44b4-9686-d941297e9598",
   "metadata": {},
   "outputs": [
    {
     "name": "stdout",
     "output_type": "stream",
     "text": [
      "CPU times: user 7.88 ms, sys: 0 ns, total: 7.88 ms\n",
      "Wall time: 3.01 s\n"
     ]
    },
    {
     "data": {
      "text/plain": [
       "[3, 7, 13]"
      ]
     },
     "execution_count": 50,
     "metadata": {},
     "output_type": "execute_result"
    }
   ],
   "source": [
    "%%time\n",
    "\n",
    "# Пример 4.5\n",
    "# Комбинация примеров 4.3 и 4.4 (переданы и позиционные и именованные аргументы)\n",
    "parallel_map(test_func,\n",
    "             args_container=[1, 2, 3],\n",
    "             kwargs_container=[{\"s\": 3}, {\"s\": 3}, {\"s\": 3}],\n",
    "             n_jobs=5)   # Здесь используется 3 worker'a"
   ]
  },
  {
   "cell_type": "code",
   "execution_count": 50,
   "id": "8b4649e2-a75b-4ede-8a46-32a0139fe998",
   "metadata": {},
   "outputs": [
    {
     "name": "stdout",
     "output_type": "stream",
     "text": [
      "CPU times: user 7.88 ms, sys: 0 ns, total: 7.88 ms\n",
      "Wall time: 3.01 s\n"
     ]
    },
    {
     "data": {
      "text/plain": [
       "[3, 7, 13]"
      ]
     },
     "execution_count": 50,
     "metadata": {},
     "output_type": "execute_result"
    }
   ],
   "source": [
    "%%time\n",
    "\n",
    "# Пример 4.6\n",
    "# Если аргументов для target_func указано БОЛЬШЕ, чем n_jobs, то используется n_jobs worker'ов\n",
    "parallel_map(test_func,\n",
    "             args_container=[1, 2, 3, 4],\n",
    "             kwargs_container=None,\n",
    "             n_jobs=2)   # Здесь используется 2 worker'a"
   ]
  },
  {
   "cell_type": "code",
   "execution_count": 51,
   "id": "627aa784-15b5-41ca-b232-73c88c5ebed9",
   "metadata": {},
   "outputs": [
    {
     "name": "stdout",
     "output_type": "stream",
     "text": [
      "CPU times: user 3.03 ms, sys: 11 ms, total: 14 ms\n",
      "Wall time: 5.01 s\n"
     ]
    },
    {
     "data": {
      "text/plain": [
       "[3, 3, 3, 3]"
      ]
     },
     "execution_count": 51,
     "metadata": {},
     "output_type": "execute_result"
    }
   ],
   "source": [
    "%%time\n",
    "\n",
    "# Пример 4.7\n",
    "# Время выполнения оптимизируется, данный код должен отрабатывать за 5 секунд\n",
    "parallel_map(test_func,\n",
    "             kwargs_container=[{\"s\": 5}, {\"s\": 1}, {\"s\": 2}, {\"s\": 1}],\n",
    "             n_jobs=2)"
   ]
  },
  {
   "cell_type": "code",
   "execution_count": 57,
   "id": "55bbfb49-4891-48c8-9cd7-782567b2a8fa",
   "metadata": {},
   "outputs": [
    {
     "data": {
      "text/plain": [
       "['first', 'second', 'third', 'fourth', 'fifth']"
      ]
     },
     "execution_count": 57,
     "metadata": {},
     "output_type": "execute_result"
    }
   ],
   "source": [
    "def test_func2(string, sleep_time=1):\n",
    "    time.sleep(sleep_time)\n",
    "    return string\n",
    "\n",
    "# Пример 5\n",
    "# Результаты возвращаются в том же порядке, в котором были переданы соответствующие аргументы вне зависимости от того, когда завершился worker\n",
    "arguments = [\"first\", \"second\", \"third\", \"fourth\", \"fifth\"]\n",
    "parallel_map(test_func2,\n",
    "             args_container=arguments,\n",
    "             kwargs_container=[{\"sleep_time\": 5}, {\"sleep_time\": 4}, {\"sleep_time\": 3}, {\"sleep_time\": 2}, {\"sleep_time\": 1}])"
   ]
  },
  {
   "cell_type": "code",
   "execution_count": 58,
   "id": "a5c2bcab-baa8-4f95-aceb-8cd6635844d6",
   "metadata": {},
   "outputs": [
    {
     "data": {
      "text/plain": [
       "[None, None, None]"
      ]
     },
     "execution_count": 58,
     "metadata": {},
     "output_type": "execute_result"
    }
   ],
   "source": [
    "%%time\n",
    "\n",
    "\n",
    "def test_func3():\n",
    "    def inner_test_func(sleep_time):\n",
    "        time.sleep(sleep_time)\n",
    "    return parallel_map(inner_test_func, args_container=[1, 2, 3])\n",
    "\n",
    "# Пример 6\n",
    "# Работает с функциями, созданными внутри других функций\n",
    "test_func3()"
   ]
  }
 ],
 "metadata": {
  "kernelspec": {
   "display_name": "Python 3 (ipykernel)",
   "language": "python",
   "name": "python3"
  },
  "language_info": {
   "codemirror_mode": {
    "name": "ipython",
    "version": 3
   },
   "file_extension": ".py",
   "mimetype": "text/x-python",
   "name": "python",
   "nbconvert_exporter": "python",
   "pygments_lexer": "ipython3",
   "version": "3.9.7"
  }
 },
 "nbformat": 4,
 "nbformat_minor": 5
}
