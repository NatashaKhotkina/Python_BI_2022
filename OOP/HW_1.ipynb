{
 "cells": [
  {
   "cell_type": "markdown",
   "id": "7c5a538f-2dbe-445c-9f46-cf0dc18867e4",
   "metadata": {},
   "source": [
    "# Задание 1 (5 баллов)"
   ]
  },
  {
   "cell_type": "markdown",
   "id": "1e8cc3b0-6f60-40da-8058-30d9eb434daf",
   "metadata": {},
   "source": [
    "Напишите классы **Chat**, **Message** и **User**. Они должны соответствовать следующим требованиям:\n",
    "\n",
    "**Chat**:\n",
    "+ Должен иметь атрибут `chat_history`, где будут храниться все сообщения (`Message`) в обратном хронологическом порядке (сначала новые, затем старые)\n",
    "+ Должен иметь метод `show_last_message`, выводящий на экран информацию о последнем сообщении\n",
    "+ Должен иметь метод `get_history_from_time_period`, который принимает два опциональных аргумента (даты с которой и по какую мы ищем сообщения и выдаём их). Метод также должен возвращать объект типа `Chat`\n",
    "+ Должен иметь метод `show_chat`, выводящий на экран все сообщения (каждое сообщение в таком же виде как и `show_last_message`, но с разделителем между ними)\n",
    "+ Должен иметь метод `recieve`, который будет принимать сообщение и добавлять его в чат\n",
    "\n",
    "**Message**:\n",
    "+ Должен иметь три обязательных атрибута\n",
    "    + `text` - текст сообщения\n",
    "    + `datetime` - дата и время сообщения (встроенный модуль datetime вам в помощь). Важно! Это должна быть не дата создания сообщения, а дата его попадания в чат! \n",
    "    + `user` - информация о пользователе, который оставил сообщение (какой тип данных использовать здесь, разберётесь сами)\n",
    "+ Должен иметь метод `show`, который печатает или возвращает информацию о сообщении с необходимой информацией (дата, время, юзер, текст)\n",
    "+ Должен иметь метод `send`, который будет отправлять сообщение в чат\n",
    "\n",
    "**User**:\n",
    "+ Класс с информацией о юзере, наполнение для этого класса придумайте сами\n",
    "\n",
    "Напишите несколько примеров использования кода, которое показывает взаимодействие между объектами.\n",
    "\n",
    "В тексте задания намерено не указано, какие аргументы должны принимать методы, пускай вам в этом поможет здравый смысл)\n",
    "\n",
    "В этом задании не стоит флексить всякими продвинутыми штуками, для этого есть последующие\n",
    "\n",
    "В этом задании можно использовать только модуль `datetime`"
   ]
  },
  {
   "cell_type": "code",
   "execution_count": 1,
   "id": "493f9715",
   "metadata": {},
   "outputs": [],
   "source": [
    "from datetime import datetime"
   ]
  },
  {
   "cell_type": "code",
   "execution_count": 2,
   "id": "d14ce6ca-7294-492c-8a01-3f7547680474",
   "metadata": {},
   "outputs": [],
   "source": [
    "class Chat:\n",
    "    def __init__(self, history=None):\n",
    "        if history is None:\n",
    "            history = []\n",
    "        self.chat_history = history\n",
    "        \n",
    "    def show_last_message(self):\n",
    "        print(self.chat_history[0].user, self.chat_history[0].text, \n",
    "              self.chat_history[0].datetime, sep='\\n')\n",
    "    \n",
    "    def get_history_from_time_period(self, begin=None, end=None):\n",
    "        if begin is None:\n",
    "            begin = self.chat_history[-1].datetime\n",
    "        if end is None:\n",
    "            end = self.chat_history[0].datetime\n",
    "        history = list(mes for mes in self.chat_history if mes.datetime >= begin and mes.datetime <= end)\n",
    "        return Chat(history)\n",
    "    \n",
    "    def show_chat(self):\n",
    "        for mes in self.chat_history[::-1]:\n",
    "            print(mes.user, mes.text, mes.datetime, sep='\\n', end='\\n❤️️❤️️❤️️\\n')\n",
    "            \n",
    "    \n",
    "    def receive(self, message):\n",
    "        self.chat_history = [message] + self.chat_history\n",
    "\n",
    "\n",
    "class Message:\n",
    "    def __init__(self, text, user):\n",
    "        self.text = text\n",
    "        self.datetime = None\n",
    "        self.user = user.nickname\n",
    "    \n",
    "    def show(self):\n",
    "        print(self.user, self.text, self.datetime, sep='\\n')\n",
    "        \n",
    "    def send(self, chat):\n",
    "        self.datetime = datetime.now()\n",
    "        chat.receive(self)\n",
    "        \n",
    "\n",
    "class User:\n",
    "    def __init__(self, name, surname, nickname):\n",
    "        self.name = name\n",
    "        self.surname = surname\n",
    "        self.nickname = nickname"
   ]
  },
  {
   "cell_type": "code",
   "execution_count": 3,
   "id": "d4591565",
   "metadata": {},
   "outputs": [],
   "source": [
    "roma = User('Roma', 'Kruglikov', 'sunny')\n",
    "natasha = User('Natasha', 'Khotkina', 'crying')"
   ]
  },
  {
   "cell_type": "code",
   "execution_count": 4,
   "id": "ee569f0c",
   "metadata": {},
   "outputs": [],
   "source": [
    "mes1 = Message('Hi, Natasha!', roma)\n",
    "mes2 = Message('Hi!', natasha)"
   ]
  },
  {
   "cell_type": "code",
   "execution_count": 5,
   "id": "230324ef",
   "metadata": {},
   "outputs": [
    {
     "name": "stdout",
     "output_type": "stream",
     "text": [
      "sunny\n",
      "Hi, Natasha!\n",
      "None\n"
     ]
    }
   ],
   "source": [
    "mes1.show()"
   ]
  },
  {
   "cell_type": "code",
   "execution_count": 6,
   "id": "c3e396b3",
   "metadata": {},
   "outputs": [],
   "source": [
    "friends_chat = Chat()"
   ]
  },
  {
   "cell_type": "code",
   "execution_count": 7,
   "id": "c9b5c0bf",
   "metadata": {},
   "outputs": [],
   "source": [
    "mes1.send(friends_chat)"
   ]
  },
  {
   "cell_type": "code",
   "execution_count": 8,
   "id": "03935a36",
   "metadata": {},
   "outputs": [],
   "source": [
    "mes2.send(friends_chat)"
   ]
  },
  {
   "cell_type": "code",
   "execution_count": 9,
   "id": "4c1b4b60",
   "metadata": {},
   "outputs": [
    {
     "name": "stdout",
     "output_type": "stream",
     "text": [
      "sunny\n",
      "Hi, Natasha!\n",
      "2023-02-25 18:46:58.744415\n",
      "❤️️❤️️❤️️\n",
      "crying\n",
      "Hi!\n",
      "2023-02-25 18:46:59.414006\n",
      "❤️️❤️️❤️️\n"
     ]
    }
   ],
   "source": [
    "friends_chat.show_chat()"
   ]
  },
  {
   "cell_type": "code",
   "execution_count": 12,
   "id": "5b3093e8",
   "metadata": {},
   "outputs": [],
   "source": [
    "chat_hist = friends_chat.get_history_from_time_period(begin=datetime(2023,2,25,18,46,59))"
   ]
  },
  {
   "cell_type": "code",
   "execution_count": 13,
   "id": "00e84020",
   "metadata": {},
   "outputs": [
    {
     "name": "stdout",
     "output_type": "stream",
     "text": [
      "crying\n",
      "Hi!\n",
      "2023-02-25 18:46:59.414006\n",
      "❤️️❤️️❤️️\n"
     ]
    }
   ],
   "source": [
    "chat_hist.show_chat()"
   ]
  },
  {
   "cell_type": "markdown",
   "id": "a59aa1b3-4c93-480e-a09f-e57df34eb60a",
   "metadata": {},
   "source": [
    "# Задание 2 (3 балла)"
   ]
  },
  {
   "cell_type": "markdown",
   "id": "ab07eb69-877f-4c38-8c7d-88beae20071b",
   "metadata": {},
   "source": [
    "В питоне как-то слишком типично и неинтересно происходят вызовы функций. Напишите класс `Args`, который будет хранить в себе аргументы, а функции можно будет вызывать при помощи следующего синтаксиса.\n",
    "\n",
    "Использовать любые модули **нельзя**, да и вряд-ли это как-то поможет)"
   ]
  },
  {
   "cell_type": "code",
   "execution_count": 14,
   "id": "d73d6b31-c15a-4ae6-ad9b-b3fdab88efed",
   "metadata": {},
   "outputs": [],
   "source": [
    "class Args():\n",
    "    def __init__(self, *args, **kwargs):\n",
    "        self.args = args\n",
    "        self.kwargs = kwargs\n",
    "    def __rlshift__(self, func):\n",
    "        print(func(*self.args, **self.kwargs))"
   ]
  },
  {
   "cell_type": "code",
   "execution_count": 15,
   "id": "55afedbb-4725-4078-bd98-bf803be0bf93",
   "metadata": {},
   "outputs": [
    {
     "name": "stdout",
     "output_type": "stream",
     "text": [
      "3\n"
     ]
    }
   ],
   "source": [
    "sum << Args([1, 2])"
   ]
  },
  {
   "cell_type": "code",
   "execution_count": 16,
   "id": "c37f0728-9bdc-469e-a5b8-3ab5aa43a731",
   "metadata": {},
   "outputs": [
    {
     "name": "stdout",
     "output_type": "stream",
     "text": [
      "53\n"
     ]
    }
   ],
   "source": [
    "(lambda a, b, c: a**2 + b + c) << Args(1, 2, c=50)"
   ]
  },
  {
   "cell_type": "markdown",
   "id": "d6915eaf-92fe-460b-bf9b-06ccf55b093f",
   "metadata": {},
   "source": [
    "# Задание 3 (5 баллов)"
   ]
  },
  {
   "cell_type": "markdown",
   "id": "5a588ef8-8af6-42b6-972b-3c716a604c34",
   "metadata": {},
   "source": [
    "Сделайте класс наследник `float`. Он должен вести себя как `float`, но также должен обладать некоторыми особенностями:\n",
    "+ При получении атрибутов формата `<действие>_<число>` мы получаем результат такого действия над нашим числом\n",
    "+ Создавать данные атрибуты в явном виде, очевидно, не стоит\n",
    "\n",
    "Подсказка: если в процессе гуглёжки, вы выйдете на такую тему как **\"Дескрипторы\", то это НЕ то, что вам сейчас нужно**\n",
    "\n",
    "Примеры использования ниже"
   ]
  },
  {
   "cell_type": "code",
   "execution_count": 17,
   "id": "61cb63a2-90ac-4b79-97a5-bb0496262e32",
   "metadata": {},
   "outputs": [],
   "source": [
    "class StrangeFloat(float):\n",
    "    def __getattribute__(self, name):\n",
    "        if hasattr(float, name):\n",
    "            return super().__getattribute__(name)\n",
    "        else:\n",
    "            operation, number = name.split('_')\n",
    "            number = float(number)\n",
    "            operation_dict = {\n",
    "                'add': self.__add__,\n",
    "                'subtract': self.__sub__, \n",
    "                'multiply': self.__mul__,\n",
    "                'divide': self.__truediv__\n",
    "            }\n",
    "            return StrangeFloat(operation_dict[operation](number))\n",
    "            "
   ]
  },
  {
   "cell_type": "code",
   "execution_count": 18,
   "id": "f730c9c0-7d90-4037-97c6-e926dcbc1ea3",
   "metadata": {},
   "outputs": [],
   "source": [
    "number = StrangeFloat(3.5)"
   ]
  },
  {
   "cell_type": "code",
   "execution_count": 19,
   "id": "b2756368-a489-486d-a0f1-244697f8503c",
   "metadata": {},
   "outputs": [
    {
     "data": {
      "text/plain": [
       "4.5"
      ]
     },
     "execution_count": 19,
     "metadata": {},
     "output_type": "execute_result"
    }
   ],
   "source": [
    "number.add_1"
   ]
  },
  {
   "cell_type": "code",
   "execution_count": 20,
   "id": "c6799592-3cb6-4c7d-af62-9c0a48a76c1d",
   "metadata": {},
   "outputs": [
    {
     "data": {
      "text/plain": [
       "-16.5"
      ]
     },
     "execution_count": 20,
     "metadata": {},
     "output_type": "execute_result"
    }
   ],
   "source": [
    "number.subtract_20"
   ]
  },
  {
   "cell_type": "code",
   "execution_count": 21,
   "id": "130027b5-017a-4c70-b072-1fdc6acf670f",
   "metadata": {},
   "outputs": [
    {
     "data": {
      "text/plain": [
       "17.5"
      ]
     },
     "execution_count": 21,
     "metadata": {},
     "output_type": "execute_result"
    }
   ],
   "source": [
    "number.multiply_5"
   ]
  },
  {
   "cell_type": "code",
   "execution_count": 22,
   "id": "2b901e5c-5a51-4788-b15b-9b20a074e1a4",
   "metadata": {},
   "outputs": [
    {
     "data": {
      "text/plain": [
       "0.14"
      ]
     },
     "execution_count": 22,
     "metadata": {},
     "output_type": "execute_result"
    }
   ],
   "source": [
    "number.divide_25"
   ]
  },
  {
   "cell_type": "code",
   "execution_count": 23,
   "id": "ea52c492-b0ce-4d73-8aba-a0ea51ed0b60",
   "metadata": {},
   "outputs": [
    {
     "data": {
      "text/plain": [
       "-4.125"
      ]
     },
     "execution_count": 23,
     "metadata": {},
     "output_type": "execute_result"
    }
   ],
   "source": [
    "number.add_1.add_2.multiply_6.divide_8.subtract_9"
   ]
  },
  {
   "cell_type": "code",
   "execution_count": 24,
   "id": "e26ef411-a5df-46c7-bb9d-e77a1fad3cec",
   "metadata": {},
   "outputs": [
    {
     "data": {
      "text/plain": [
       "1.0"
      ]
     },
     "execution_count": 24,
     "metadata": {},
     "output_type": "execute_result"
    }
   ],
   "source": [
    "getattr(number, \"add_-2.5\")   # Используем getattr, так как не можем написать number.add_-2.5 - это SyntaxError"
   ]
  },
  {
   "cell_type": "code",
   "execution_count": 25,
   "id": "7a57bb29-1105-4df1-a4c4-5fbf62eef11d",
   "metadata": {},
   "outputs": [
    {
     "data": {
      "text/plain": [
       "11.5"
      ]
     },
     "execution_count": 25,
     "metadata": {},
     "output_type": "execute_result"
    }
   ],
   "source": [
    "number + 8   # Стандартные для float операции работают также"
   ]
  },
  {
   "cell_type": "code",
   "execution_count": 26,
   "id": "f0246b31-c55a-4bb8-ac15-46509bd8b340",
   "metadata": {},
   "outputs": [
    {
     "data": {
      "text/plain": [
       "(7, 2)"
      ]
     },
     "execution_count": 26,
     "metadata": {},
     "output_type": "execute_result"
    }
   ],
   "source": [
    "number.as_integer_ratio()   # Стандартные для float операции работают также  (это встроенный метод float, писать его НЕ НАДО)"
   ]
  },
  {
   "cell_type": "markdown",
   "id": "3635bceb-723c-4b2f-82e3-269bd914c46c",
   "metadata": {},
   "source": [
    "# Задание 4 (3 балла)"
   ]
  },
  {
   "cell_type": "markdown",
   "id": "31d35f82-1e20-4bf5-b896-7b8163f8386f",
   "metadata": {},
   "source": [
    "В данном задании мы немного отдохнём и повеселимся. От вас требуется заменить в данном коде максимально возможное количество синтаксических конструкций на вызовы dunder методов, dunder атрибутов и dunder переменных.\n",
    "\n",
    "Маленькая заметка: полностью всё заменить невозможно. Например, `function()` можно записать как `function.__call__()`, но при этом мы всё ещё не избавляемся от скобочек, так что можно делать так до бесконечности `function.__call__.__call__.__call__.__call__.....__call__()` и при всём при этом мы ещё не избавляемся от `.` для доступа к атрибутам. В общем, замените всё, что получится, не закапываясь в повторы, как в приведённом примере. Чем больше разных методов вы найдёте и используете, тем лучше и тем выше будет балл\n",
    "\n",
    "Код по итогу дожен работать и печатать число **4420.0**, как в примере. Структуру кода менять нельзя, просто изменяем конструкции на синонимичные\n",
    "\n",
    "И ещё маленькая подсказка. Заменить здесь можно всё кроме:\n",
    "+ Конструкции `for ... in ...`:\n",
    "+ Синтаксиса создания лямбда функции\n",
    "+ Оператора присваивания `=`\n",
    "+ Конструкции `if-else`"
   ]
  },
  {
   "cell_type": "code",
   "execution_count": 35,
   "id": "a87cff2a-7168-470d-b38f-1cb5a60ac0c4",
   "metadata": {},
   "outputs": [
    {
     "name": "stdout",
     "output_type": "stream",
     "text": [
      "4420.0\n"
     ]
    }
   ],
   "source": [
    "np = __import__('numpy')\n",
    "\n",
    "\n",
    "matrix = []\n",
    "for idx in range(0, 100, 10):\n",
    "    matrix.__iadd__([list(range(idx, idx.__add__(10)))])\n",
    "    \n",
    "selected_columns_indices = list(filter(lambda x: x in range(1, 5, 2), range(matrix.__len__())))\n",
    "selected_columns = map(lambda x: [x.__getitem__(col) for col in selected_columns_indices], matrix)\n",
    "\n",
    "arr = np.array(list(selected_columns))\n",
    "\n",
    "mask = (np.array(list(i.__getitem__(1) for i in arr)).__mod__(3)).__eq__(0)\n",
    "new_arr = arr.__getitem__(mask)\n",
    "\n",
    "product = new_arr.__matmul__(new_arr.T)\n",
    "\n",
    "if (product.__getitem__(0).__lt__(1000)).all() and (product.__getitem__(2).__gt__(1000)).any():\n",
    "    print(product.mean())"
   ]
  },
  {
   "cell_type": "markdown",
   "id": "e90e5938-cabe-4ee1-9a88-73f25b3b67c3",
   "metadata": {},
   "source": [
    "# Задание 5 (10 баллов)"
   ]
  },
  {
   "cell_type": "markdown",
   "id": "0e58f6a8-7bb8-45f0-b14d-3bcd1f1ba5a9",
   "metadata": {},
   "source": [
    "Напишите абстрактный класс `BiologicalSequence`, который задаёт следующий интерфейс:\n",
    "+ Работа с функцией `len`\n",
    "+ Возможность получать элементы по индексу и делать срезы последовательности (аналогично строкам)\n",
    "+ Вывод на печать в удобном виде и возможность конвертации в строку\n",
    "+ Возможность проверить алфавит последовательности на корректность\n",
    "\n",
    "Напишите класс `NucleicAcidSequence`:\n",
    "+ Данный класс реализует интерфейс `BiologicalSequence`\n",
    "+ Данный класс имеет новый метод `complement`, возвращающий комплементарную последовательность\n",
    "+ Данный класс имеет новый метод `gc_content`, возвращающий GC-состав (без разницы, в процентах или в долях)\n",
    "\n",
    "Напишите классы наследники `NucleicAcidSequence`: `DNASequence` и `RNASequence`\n",
    "+ `DNASequence` должен иметь метод `transcribe`, возвращающий транскрибированную РНК-последовательность\n",
    "+ Данные классы не должны иметь <ins>публичных методов</ins> `complement` и метода для проверки алфавита, так как они уже должны быть реализованы в `NucleicAcidSequence`.\n",
    "\n",
    "Напишите класс `AminoAcidSequence`:\n",
    "+ Данный класс реализует интерфейс `BiologicalSequence`\n",
    "+ Добавьте этому классу один любой метод, подходящий по смыслу к аминокислотной последовательности. Например, метод для нахождения изоэлектрической точки, молекулярного веса и т.д.\n",
    "\n",
    "Комментарий по поводу метода `NucleicAcidSequence.complement`, так как я хочу, чтобы вы сделали его опредедённым образом:\n",
    "\n",
    "При вызове `dna.complement()` или условного `dna.check_alphabet()` должны будут вызываться соответствующие методы из `NucleicAcidSequence`. При этом, данный метод должен обладать свойством полиморфизма, иначе говоря, внутри `complement` не надо делать условия а-ля `if seuqence_type == \"DNA\": return self.complement_dna()`, это крайне не гибко. Данный метод должен опираться на какой-то общий интерфейс между ДНК и РНК. Создание экземпляров `NucleicAcidSequence` не подразумевается, поэтому код `NucleicAcidSequence(\"ATGC\").complement()` не обязан работать, а в идеале должен кидать исключение `NotImplementedError` при вызове от экземпляра `NucleicAcidSequence`\n",
    "\n",
    "Вся сложность задания в том, чтобы правильно организовать код. Если у вас есть повторяющийся код в сестринских классах или родительском и дочернем, значит вы что-то делаете не так.\n",
    "\n",
    "\n",
    "Маленькое замечание: По-хорошему, между классом `BiologicalSequence` и классами `NucleicAcidSequence` и `AminoAcidSequence`, ещё должен быть класс-прослойка, частично реализующий интерфейс `BiologicalSequence`, но его писать не обязательно, так как задание и так довольно большое (правда из-за этого у вас неминуемо возникнет повторяющийся код в классах `NucleicAcidSequence` и `AminoAcidSequence`)"
   ]
  },
  {
   "cell_type": "code",
   "execution_count": 36,
   "id": "f17d5d3f-9982-4271-a987-3af7bc071c42",
   "metadata": {},
   "outputs": [],
   "source": [
    "from abc import ABC, abstractmethod\n",
    "\n",
    "\n",
    "class BiologicalSequence(ABC):\n",
    "    @abstractmethod\n",
    "    def __len__(self):\n",
    "        pass\n",
    "    \n",
    "    @abstractmethod\n",
    "    def __getitem__(self, slc):\n",
    "        pass\n",
    "    \n",
    "    @abstractmethod\n",
    "    def __repr__(self):\n",
    "        pass\n",
    "    \n",
    "    @abstractmethod\n",
    "    def check_alphabet(self):\n",
    "        pass\n",
    "    \n",
    "\n",
    "class BiologicalSequence_impl(BiologicalSequence):\n",
    "    def __init__(self, seq):\n",
    "        self.seq = seq\n",
    "    \n",
    "    def __len__(self):\n",
    "        return len(self.seq)\n",
    "    \n",
    "    def __getitem__(self, slc):\n",
    "        return self.seq.__getitem__(slc)\n",
    "    \n",
    "    def __repr__(self):\n",
    "        return str(self.seq)\n",
    "    \n",
    "    def check_alphabet(self):\n",
    "        for letter in self.seq:\n",
    "            if letter.upper() not in self.alphabet:\n",
    "                return False\n",
    "        return True\n",
    "    \n",
    "    \n",
    "class NucleicAcidSequence(BiologicalSequence_impl):\n",
    "    \n",
    "    def complement(self, inplace=False):\n",
    "        complement_seq = self.seq.translate(self.trans_object)\n",
    "        if inplace:\n",
    "            self.seq = complement_seq\n",
    "        return complement_seq\n",
    "    \n",
    "    def gc_content(self):\n",
    "        return (self.seq.upper().count('G') + self.seq.upper().count('C')) / len(self.seq)\n",
    "    \n",
    "\n",
    "class DNASequence(NucleicAcidSequence):\n",
    "    def __init__(self, seq):\n",
    "        super().__init__(seq)\n",
    "        self.alphabet = 'ATGC'\n",
    "        self.trans_object = str.maketrans(\"ATGCatgc\", \"TACGtacg\")\n",
    "        \n",
    "    def transcribe(self):\n",
    "        transcribed_seq = self.seq.translate(str.maketrans(\"ATGCatgc\", \"UACGuacg\"))\n",
    "        return transcribed_seq\n",
    "        \n",
    "\n",
    "class RNASequence(NucleicAcidSequence):\n",
    "    def __init__(self, seq):\n",
    "        super().__init__(seq)\n",
    "        self.alphabet = 'AUGC'\n",
    "        self.trans_object = str.maketrans(\"AGCUagcu\", \"UCGAucga\")\n",
    "\n",
    "        \n",
    "class AminoAcidSequence(BiologicalSequence_impl):\n",
    "    def __init__(self, seq):\n",
    "        super().__init__(seq)\n",
    "        self.alphabet = 'ACDEFGHIKLMNPQRSTVWXY'\n",
    "    \n",
    "    def one_to_three_letters(self):\n",
    "        three_letter ={'V':'VAL', 'I':'ILE', 'L':'LEU', 'E':'GLU', 'Q':'GLN', \\\n",
    "                        'D':'ASP', 'N':'ASN', 'H':'HIS', 'W':'TRP', 'F':'PHE', 'Y':'TYR',    \\\n",
    "                        'R':'ARG', 'K':'LYS', 'S':'SER', 'T':'THR', 'M':'MET', 'A':'ALA',    \\\n",
    "                        'G':'GLY', 'P':'PRO', 'C':'CYS'}\n",
    "        three_letter_seq = self.seq.translate(str.maketrans(three_letter))\n",
    "        return three_letter_seq"
   ]
  },
  {
   "cell_type": "code",
   "execution_count": 37,
   "id": "eec80e79",
   "metadata": {},
   "outputs": [],
   "source": [
    "dna1 = DNASequence('ATGGGGC')"
   ]
  },
  {
   "cell_type": "code",
   "execution_count": 38,
   "id": "986650ae",
   "metadata": {},
   "outputs": [
    {
     "data": {
      "text/plain": [
       "True"
      ]
     },
     "execution_count": 38,
     "metadata": {},
     "output_type": "execute_result"
    }
   ],
   "source": [
    "dna1.check_alphabet()"
   ]
  },
  {
   "cell_type": "code",
   "execution_count": 39,
   "id": "c54496bd",
   "metadata": {},
   "outputs": [
    {
     "data": {
      "text/plain": [
       "'UACCCCG'"
      ]
     },
     "execution_count": 39,
     "metadata": {},
     "output_type": "execute_result"
    }
   ],
   "source": [
    "dna1.transcribe()"
   ]
  },
  {
   "cell_type": "code",
   "execution_count": 40,
   "id": "24636bb3",
   "metadata": {},
   "outputs": [
    {
     "data": {
      "text/plain": [
       "'TACCCCG'"
      ]
     },
     "execution_count": 40,
     "metadata": {},
     "output_type": "execute_result"
    }
   ],
   "source": [
    "dna1.complement()"
   ]
  },
  {
   "cell_type": "code",
   "execution_count": 41,
   "id": "8c838740",
   "metadata": {},
   "outputs": [
    {
     "data": {
      "text/plain": [
       "0.7142857142857143"
      ]
     },
     "execution_count": 41,
     "metadata": {},
     "output_type": "execute_result"
    }
   ],
   "source": [
    "dna1.gc_content()"
   ]
  },
  {
   "cell_type": "code",
   "execution_count": 42,
   "id": "894da539",
   "metadata": {},
   "outputs": [
    {
     "data": {
      "text/plain": [
       "7"
      ]
     },
     "execution_count": 42,
     "metadata": {},
     "output_type": "execute_result"
    }
   ],
   "source": [
    "len(dna1)"
   ]
  },
  {
   "cell_type": "code",
   "execution_count": 43,
   "id": "1405d313",
   "metadata": {},
   "outputs": [],
   "source": [
    "rna1 = RNASequence('ATGGGGC')"
   ]
  },
  {
   "cell_type": "code",
   "execution_count": 44,
   "id": "9d48f0db",
   "metadata": {},
   "outputs": [
    {
     "data": {
      "text/plain": [
       "False"
      ]
     },
     "execution_count": 44,
     "metadata": {},
     "output_type": "execute_result"
    }
   ],
   "source": [
    "rna1.check_alphabet()"
   ]
  },
  {
   "cell_type": "code",
   "execution_count": 45,
   "id": "fd518d21",
   "metadata": {},
   "outputs": [],
   "source": [
    "rna2 = RNASequence('AUGGC')"
   ]
  },
  {
   "cell_type": "code",
   "execution_count": 46,
   "id": "d7e82559",
   "metadata": {},
   "outputs": [
    {
     "data": {
      "text/plain": [
       "True"
      ]
     },
     "execution_count": 46,
     "metadata": {},
     "output_type": "execute_result"
    }
   ],
   "source": [
    "rna2.check_alphabet()"
   ]
  },
  {
   "cell_type": "code",
   "execution_count": 47,
   "id": "41ee1466",
   "metadata": {},
   "outputs": [
    {
     "data": {
      "text/plain": [
       "'UACCG'"
      ]
     },
     "execution_count": 47,
     "metadata": {},
     "output_type": "execute_result"
    }
   ],
   "source": [
    "rna2.complement()"
   ]
  },
  {
   "cell_type": "code",
   "execution_count": 48,
   "id": "e919dde6",
   "metadata": {},
   "outputs": [
    {
     "data": {
      "text/plain": [
       "0.6"
      ]
     },
     "execution_count": 48,
     "metadata": {},
     "output_type": "execute_result"
    }
   ],
   "source": [
    "rna2.gc_content()"
   ]
  },
  {
   "cell_type": "code",
   "execution_count": 49,
   "id": "a4140183",
   "metadata": {},
   "outputs": [
    {
     "data": {
      "text/plain": [
       "5"
      ]
     },
     "execution_count": 49,
     "metadata": {},
     "output_type": "execute_result"
    }
   ],
   "source": [
    "len(rna2)"
   ]
  },
  {
   "cell_type": "code",
   "execution_count": 50,
   "id": "bf4525e1",
   "metadata": {},
   "outputs": [
    {
     "data": {
      "text/plain": [
       "'A'"
      ]
     },
     "execution_count": 50,
     "metadata": {},
     "output_type": "execute_result"
    }
   ],
   "source": [
    "rna2[0]"
   ]
  },
  {
   "cell_type": "code",
   "execution_count": 51,
   "id": "17a1f125",
   "metadata": {},
   "outputs": [
    {
     "data": {
      "text/plain": [
       "'C'"
      ]
     },
     "execution_count": 51,
     "metadata": {},
     "output_type": "execute_result"
    }
   ],
   "source": [
    "rna2[-1]"
   ]
  },
  {
   "cell_type": "code",
   "execution_count": 52,
   "id": "9c72d3ca",
   "metadata": {},
   "outputs": [
    {
     "data": {
      "text/plain": [
       "'UGGC'"
      ]
     },
     "execution_count": 52,
     "metadata": {},
     "output_type": "execute_result"
    }
   ],
   "source": [
    "rna2[1:]"
   ]
  },
  {
   "cell_type": "code",
   "execution_count": 53,
   "id": "f738ffd1",
   "metadata": {},
   "outputs": [
    {
     "data": {
      "text/plain": [
       "AUGGC"
      ]
     },
     "execution_count": 53,
     "metadata": {},
     "output_type": "execute_result"
    }
   ],
   "source": [
    "rna2"
   ]
  },
  {
   "cell_type": "code",
   "execution_count": 54,
   "id": "50a91614",
   "metadata": {},
   "outputs": [
    {
     "data": {
      "text/plain": [
       "'AUGGC'"
      ]
     },
     "execution_count": 54,
     "metadata": {},
     "output_type": "execute_result"
    }
   ],
   "source": [
    "str(rna2)"
   ]
  },
  {
   "cell_type": "code",
   "execution_count": 55,
   "id": "8df0df9e",
   "metadata": {},
   "outputs": [],
   "source": [
    "am_ac = AminoAcidSequence('VDRGLHSC')"
   ]
  },
  {
   "cell_type": "code",
   "execution_count": 56,
   "id": "5ab50ba1",
   "metadata": {},
   "outputs": [
    {
     "data": {
      "text/plain": [
       "'VALASPARGGLYLEUHISSERCYS'"
      ]
     },
     "execution_count": 56,
     "metadata": {},
     "output_type": "execute_result"
    }
   ],
   "source": [
    "am_ac.one_to_three_letters()"
   ]
  },
  {
   "cell_type": "code",
   "execution_count": 48,
   "id": "e23ac26e",
   "metadata": {},
   "outputs": [
    {
     "data": {
      "text/plain": [
       "True"
      ]
     },
     "execution_count": 48,
     "metadata": {},
     "output_type": "execute_result"
    }
   ],
   "source": [
    "am_ac.check_alphabet()"
   ]
  },
  {
   "cell_type": "code",
   "execution_count": 50,
   "id": "ff51b1fe",
   "metadata": {},
   "outputs": [
    {
     "data": {
      "text/plain": [
       "'GLHS'"
      ]
     },
     "execution_count": 50,
     "metadata": {},
     "output_type": "execute_result"
    }
   ],
   "source": [
    "am_ac[3:7]"
   ]
  }
 ],
 "metadata": {
  "kernelspec": {
   "display_name": "Python 3 (ipykernel)",
   "language": "python",
   "name": "python3"
  },
  "language_info": {
   "codemirror_mode": {
    "name": "ipython",
    "version": 3
   },
   "file_extension": ".py",
   "mimetype": "text/x-python",
   "name": "python",
   "nbconvert_exporter": "python",
   "pygments_lexer": "ipython3",
   "version": "3.9.7"
  }
 },
 "nbformat": 4,
 "nbformat_minor": 5
}
